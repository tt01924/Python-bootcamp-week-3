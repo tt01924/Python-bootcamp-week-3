{
 "cells": [
  {
   "cell_type": "code",
   "execution_count": 4,
   "id": "246c468d-8195-495b-b2d1-2f10b54a1edb",
   "metadata": {},
   "outputs": [
    {
     "name": "stdin",
     "output_type": "stream",
     "text": [
      "What is your name?  Todd\n"
     ]
    },
    {
     "name": "stdout",
     "output_type": "stream",
     "text": [
      "Todd\n"
     ]
    }
   ],
   "source": [
    "# accepting and outputting user input\n",
    "print( input('What is your name? ') )"
   ]
  },
  {
   "cell_type": "code",
   "execution_count": 6,
   "id": "b9f31829-9169-45e1-9ff4-6a63d58abe5a",
   "metadata": {},
   "outputs": [
    {
     "name": "stdin",
     "output_type": "stream",
     "text": [
      "What is your name?  Todd\n"
     ]
    },
    {
     "name": "stdout",
     "output_type": "stream",
     "text": [
      "Hello Todd!\n"
     ]
    }
   ],
   "source": [
    "ans = input('What is your name? ')\n",
    "print('Hello {}!'.format(ans))"
   ]
  },
  {
   "cell_type": "code",
   "execution_count": 8,
   "id": "12e8c397-a4ed-4408-813d-94c2b72835d7",
   "metadata": {},
   "outputs": [
    {
     "name": "stdout",
     "output_type": "stream",
     "text": [
      "<class 'int'>\n"
     ]
    }
   ],
   "source": [
    "# How to check the data type of a variable\n",
    "num = 5\n",
    "print(type(num))"
   ]
  },
  {
   "cell_type": "code",
   "execution_count": 14,
   "id": "f3fe9de7-65d8-47dc-aa75-5963d59d1a59",
   "metadata": {},
   "outputs": [
    {
     "name": "stdout",
     "output_type": "stream",
     "text": [
      "<class 'int'>\n"
     ]
    }
   ],
   "source": [
    "# Converting variables into different data types\n",
    "num = '9'\n",
    "num = int(num)\n",
    "print(type(num))"
   ]
  },
  {
   "cell_type": "code",
   "execution_count": 32,
   "id": "1b2dd435-f043-428f-8814-805a1bfac7fc",
   "metadata": {},
   "outputs": [
    {
     "name": "stdin",
     "output_type": "stream",
     "text": [
      "Type a number to add:  9\n"
     ]
    },
    {
     "name": "stdout",
     "output_type": "stream",
     "text": [
      "<class 'str'>\n",
      "100 + 9 = 109\n"
     ]
    }
   ],
   "source": [
    "# working with user input to perform calculations\n",
    "ans = input('Type a number to add: ')\n",
    "print(type(ans))\n",
    "result = 100 + int(ans)\n",
    "print('100 + {} = {}'.format(ans, result))"
   ]
  },
  {
   "cell_type": "code",
   "execution_count": 36,
   "id": "7267051e-2399-440d-9b69-64d8489dd8a0",
   "metadata": {},
   "outputs": [
    {
     "name": "stdin",
     "output_type": "stream",
     "text": [
      "Type a number: nine\n"
     ]
    },
    {
     "name": "stdout",
     "output_type": "stream",
     "text": [
      "you did not input a valid number!\n",
      "The program did not break!\n"
     ]
    }
   ],
   "source": [
    "try:\n",
    "    ans = float(input('Type a number:'))\n",
    "    print('100 + {} = {}'.format(ans, 100 + ans))\n",
    "except:\n",
    "    print('you did not input a valid number!')\n",
    "\n",
    "print('The program did not break!')"
   ]
  },
  {
   "cell_type": "markdown",
   "id": "ddd47c74-4668-4fda-acc1-78aae014e9a3",
   "metadata": {},
   "source": [
    " # If statements #"
   ]
  },
  {
   "cell_type": "code",
   "execution_count": 48,
   "id": "3b8ecfe9-ce5f-453f-b20d-851fdb83789d",
   "metadata": {},
   "outputs": [
    {
     "name": "stdout",
     "output_type": "stream",
     "text": [
      "x is less than y\n"
     ]
    }
   ],
   "source": [
    "x, y = 5, 10\n",
    "if x < y:\n",
    "    print('x is less than y')"
   ]
  },
  {
   "cell_type": "code",
   "execution_count": 54,
   "id": "4a232553-fa5c-434e-a904-54f93d2e9329",
   "metadata": {},
   "outputs": [
    {
     "name": "stdout",
     "output_type": "stream",
     "text": [
      "Both statements are true\n"
     ]
    }
   ],
   "source": [
    "# using the keyword 'and' in an 'if' statement\n",
    "x, y, z = 5, 10, 15\n",
    "if x < y and y != z:\n",
    "    print('Both statements are true')"
   ]
  },
  {
   "cell_type": "markdown",
   "id": "42dba0e7-a9e9-46ed-85bb-d0e20cc9b568",
   "metadata": {},
   "source": [
    "# Elif statements"
   ]
  },
  {
   "cell_type": "code",
   "execution_count": 57,
   "id": "20a3d27a-d8eb-48c5-914b-dd1baad99ad8",
   "metadata": {},
   "outputs": [
    {
     "name": "stdout",
     "output_type": "stream",
     "text": [
      "x is less\n"
     ]
    }
   ],
   "source": [
    "# using the elif conditional statement\n",
    "x, y = 5, 10\n",
    "if x > y:\n",
    "    print('x is greater')\n",
    "elif x < y:\n",
    "    print('x is less')"
   ]
  },
  {
   "cell_type": "markdown",
   "id": "d836ea92-d397-46f7-b4cc-8c10ec200f00",
   "metadata": {},
   "source": [
    "# Project\n",
    "## Creating a calculator"
   ]
  },
  {
   "cell_type": "code",
   "execution_count": 72,
   "id": "cc655f12-9f0f-42cc-a45f-f616d42b4e6b",
   "metadata": {},
   "outputs": [
    {
     "name": "stdin",
     "output_type": "stream",
     "text": [
      "would you like to subtract/add/divide/multiply? divide\n"
     ]
    },
    {
     "name": "stdout",
     "output_type": "stream",
     "text": [
      "you chose divide.\n",
      "you chose divide.\n",
      "Please keep in mind the order of the numbers matter.\n"
     ]
    },
    {
     "name": "stdin",
     "output_type": "stream",
     "text": [
      "What is the first number? 6\n",
      "What is the second number? 2\n"
     ]
    },
    {
     "name": "stdout",
     "output_type": "stream",
     "text": [
      "First Number: 6\n",
      "Second Number: 2\n",
      "6.0 / 2.0 = 3.0\n"
     ]
    }
   ],
   "source": [
    "# 1: Ask user for calculation to be performed\n",
    "operation = input('would you like to subtract/add/divide/multiply?').lower()\n",
    "print('you chose {}.'.format(operation)) # For testing purposes\n",
    "\n",
    "# 2: Ask for numbers; order matters for subtraction and division\n",
    "if operation == 'subtract' or operation == 'divide':\n",
    "    print('you chose {}.'.format(operation))\n",
    "    print('Please keep in mind the order of the numbers matter.')\n",
    "\n",
    "num1 = input('What is the first number?')\n",
    "num2 = input('What is the second number?')\n",
    "print('First Number: {}'.format(num1)) #for testing purposes\n",
    "print('Second Number: {}'.format(num2)) #for testing purposes\n",
    "\n",
    "# 3: Setup try/except for mathematical operation\n",
    "try:\n",
    "    num1, num2 = float(num1), float(num2)\n",
    "    #perform operation and print result\n",
    "    if operation == 'add':\n",
    "        result = num1 + num2\n",
    "        print('{} + {} = {}'.format(num1, num2, result))\n",
    "    elif operation == 'multiply':\n",
    "        result = num1 * num2\n",
    "        print('{} * {} = {}'.format(num1, num2, result))\n",
    "    elif operation == 'subtract':\n",
    "        result = num1 - num2\n",
    "        print('{} - {} = {}'.format(num1, num2, result))\n",
    "    elif operation == 'divide':\n",
    "        result = num1 / num2\n",
    "        print('{} / {} = {}'.format(num1, num2, result))\n",
    "    else:\n",
    "        # else will be hit if they didn't choose an option correctly\n",
    "        print(\"Sorry, but '{ }' is not an option.\".format(operation))\n",
    "\n",
    "except:\n",
    "    print('Error: Improper numbers used. Please try again.')"
   ]
  }
 ],
 "metadata": {
  "kernelspec": {
   "display_name": "Python 3 (ipykernel)",
   "language": "python",
   "name": "python3"
  },
  "language_info": {
   "codemirror_mode": {
    "name": "ipython",
    "version": 3
   },
   "file_extension": ".py",
   "mimetype": "text/x-python",
   "name": "python",
   "nbconvert_exporter": "python",
   "pygments_lexer": "ipython3",
   "version": "3.11.7"
  }
 },
 "nbformat": 4,
 "nbformat_minor": 5
}
